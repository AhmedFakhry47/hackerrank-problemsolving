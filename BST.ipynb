{
  "nbformat": 4,
  "nbformat_minor": 0,
  "metadata": {
    "colab": {
      "provenance": [],
      "collapsed_sections": []
    },
    "kernelspec": {
      "name": "python3",
      "display_name": "Python 3"
    },
    "language_info": {
      "name": "python"
    }
  },
  "cells": [
    {
      "cell_type": "code",
      "source": [
        "#imports"
      ],
      "metadata": {
        "id": "LISH70fQDQWv"
      },
      "execution_count": 1,
      "outputs": []
    },
    {
      "cell_type": "code",
      "execution_count": 28,
      "metadata": {
        "id": "TVf6c_sOEL7q"
      },
      "outputs": [],
      "source": [
        "class nodec:\n",
        "  def __init__(self,key):\n",
        "    self.left_node = None\n",
        "    self.right_node = None\n",
        "    self.value = key\n",
        "\n",
        "class BST:\n",
        "  \"\"\"\n",
        "  Implementation for binary search tree\n",
        "  \"\"\"\n",
        "\n",
        "  def __init__(self):\n",
        "    self.root = None\n",
        "\n",
        "  def insert(self,key):\n",
        "    node = nodec(key)\n",
        "\n",
        "    #If initial node in the tree\n",
        "    if self.root == None: \n",
        "      self.root = node\n",
        "      return \n",
        "    \n",
        "    #Navigation \n",
        "    prev = None\n",
        "    temp = self.root \n",
        "\n",
        "    while (temp != None):\n",
        "      prev = temp \n",
        "      if (key < temp.value):\n",
        "        temp = temp.left_node\n",
        "      else:\n",
        "        temp = temp.right_node \n",
        "    \n",
        "    if ( key < prev.value): prev.left_node = node \n",
        "    else: prev.right_node = node \n",
        "  \n",
        "\n",
        "  def inorder(self,):\n",
        "    temp = self.root \n",
        "    nodes = []\n",
        "\n",
        "    while ( (temp != None) or not (len(nodes) == 0)):\n",
        "      if (temp != None):\n",
        "        nodes.append(temp)\n",
        "        temp = temp.left_node\n",
        "      else:\n",
        "        temp = nodes.pop()\n",
        "        print(str(temp.value))\n",
        "        temp = temp.right_node\n"
      ]
    },
    {
      "cell_type": "code",
      "source": [
        "tree = BST()\n",
        "tree.insert(30)\n",
        "tree.insert(50)\n",
        "tree.insert(15)\n",
        "tree.insert(20)\n",
        "tree.insert(10)\n",
        "tree.insert(40)\n",
        "tree.insert(60)"
      ],
      "metadata": {
        "id": "d4oNYjVbt199"
      },
      "execution_count": 29,
      "outputs": []
    },
    {
      "cell_type": "code",
      "source": [
        "tree.inorder()"
      ],
      "metadata": {
        "colab": {
          "base_uri": "https://localhost:8080/"
        },
        "id": "Mvp45lFLt-SE",
        "outputId": "9650e92d-9013-4493-b01a-d67710e899cf"
      },
      "execution_count": 30,
      "outputs": [
        {
          "output_type": "stream",
          "name": "stdout",
          "text": [
            "10\n",
            "15\n",
            "20\n",
            "30\n",
            "40\n",
            "50\n",
            "60\n"
          ]
        }
      ]
    }
  ]
}