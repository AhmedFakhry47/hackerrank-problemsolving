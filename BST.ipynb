{
  "nbformat": 4,
  "nbformat_minor": 0,
  "metadata": {
    "colab": {
      "provenance": [],
      "collapsed_sections": []
    },
    "kernelspec": {
      "name": "python3",
      "display_name": "Python 3"
    },
    "language_info": {
      "name": "python"
    }
  },
  "cells": [
    {
      "cell_type": "code",
      "source": [
        "#imports"
      ],
      "metadata": {
        "id": "LISH70fQDQWv"
      },
      "execution_count": 1,
      "outputs": []
    },
    {
      "cell_type": "code",
      "execution_count": 3,
      "metadata": {
        "id": "TVf6c_sOEL7q"
      },
      "outputs": [],
      "source": [
        "class nodec:\n",
        "  def __init__(self,key):\n",
        "    self.left_node = None\n",
        "    self.right_node = None\n",
        "    self.value = key\n",
        "\n",
        "class BST:\n",
        "  \"\"\"\n",
        "  Implementation for binary search tree\n",
        "  \"\"\"\n",
        "\n",
        "  def __init__(self):\n",
        "    self.root = None\n",
        "\n",
        "  def insert(self,key):\n",
        "    node = nodec(key)\n",
        "\n",
        "    #If initial node in the tree\n",
        "    if self.root == None: \n",
        "      self.root = node\n",
        "      return \n",
        "    \n",
        "    #Navigation \n",
        "    prev = None\n",
        "    temp = self.root \n",
        "\n",
        "    while (temp != None):\n",
        "      prev = temp \n",
        "      if (key < temp.value):\n",
        "        temp = temp.left\n",
        "      else:\n",
        "        temp = temp.right \n",
        "    \n",
        "    if ( key < prev.val ): prev.left = node \n",
        "    else: prev.right = node "
      ]
    },
    {
      "cell_type": "code",
      "source": [],
      "metadata": {
        "id": "waGLzldbh47b"
      },
      "execution_count": null,
      "outputs": []
    }
  ]
}